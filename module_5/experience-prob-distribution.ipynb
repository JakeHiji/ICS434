{
 "cells": [
  {
   "cell_type": "markdown",
   "id": "713c60c7",
   "metadata": {},
   "source": [
    "##### Q.1 \n",
    "\n",
    "Consider the loaded die with the following probabilities:\n",
    "```\n",
    "    p(1) = 0.3/6\n",
    "    p(2) = 0.7/6\n",
    "    p(3) =   2/6\n",
    "    p(4) = 0.5/6\n",
    "    p(5) = 0.2/6\n",
    "    p(6) = 2.3/6\n",
    "```\n"
   ]
  },
  {
   "cell_type": "markdown",
   "id": "dbe12bdf",
   "metadata": {},
   "source": [
    "##### Q.2 \n",
    "* Plot the probability distribution above\n",
    "  * Select the most appropriate visualization to do so."
   ]
  },
  {
   "cell_type": "code",
   "execution_count": 13,
   "id": "f519fe80",
   "metadata": {},
   "outputs": [],
   "source": [
    "import matplotlib.pyplot as plt\n",
    "import numpy as np\n",
    "from collections import Counter"
   ]
  },
  {
   "cell_type": "code",
   "execution_count": 14,
   "id": "5dc96fcf",
   "metadata": {},
   "outputs": [],
   "source": [
    "def loaded_die_distribution(face):\n",
    "    try:\n",
    "        dist = {1:0.3/6, 2:0.7/6, 3:2/6, 4:0.5/6, 5:0.2/6, 6:2.3/6}\n",
    "        return dist[face]\n",
    "    except:\n",
    "        raise(\"%s is not a valid die face\", face)"
   ]
  },
  {
   "cell_type": "code",
   "execution_count": 15,
   "id": "81455aea",
   "metadata": {},
   "outputs": [
    {
     "data": {
      "text/plain": [
       "Text(0, 0.5, 'probability')"
      ]
     },
     "execution_count": 15,
     "metadata": {},
     "output_type": "execute_result"
    },
    {
     "data": {
      "image/png": "[encoded data removed]",
      "text/plain": [
       "<Figure size 720x288 with 1 Axes>"
      ]
     },
     "metadata": {
      "needs_background": "light"
     },
     "output_type": "display_data"
    }
   ],
   "source": [
    "sample_space = list(range(1,7))\n",
    "p_x = [loaded_die_distribution (f) for f in sample_space]\n",
    "\n",
    "plt.figure(figsize=(10, 4))\n",
    "plt.bar(sample_space, p_x)\n",
    "\n",
    "plt.xlabel('Die face obtained')\n",
    "plt.ylabel('probability')"
   ]
  },
  {
   "cell_type": "markdown",
   "id": "2bebd2a7",
   "metadata": {},
   "source": [
    "##### Q.3 \n",
    "* Based only on the plot above, can you predict the mean value of a random variable consisting of values obtaining from rolling a die  that follows the probability distribution given above? Explain your reasoning."
   ]
  },
  {
   "cell_type": "markdown",
   "id": "830ebcce",
   "metadata": {},
   "source": [
    "Yes you can predict the mean value of a random variable from the plot above. This is because the mean value of a random variable will be the average or most common of the data presented, considering that this is a probabilistic program, we cannot forsure say that a certain value will be contained in a random variable, however we can reason or predict that the value will most likely be 6. The reasoning for this is because we are given the greatest probability/odds of rolling a 6 than any other value, with a probability of 2.3/6, however rolling of .  This is evident in the plot where 6 has the greatest probability and thus has the greatest chance of assuming the value a random variable on rolls."
   ]
  },
  {
   "cell_type": "markdown",
   "id": "007f6984",
   "metadata": {},
   "source": [
    "##### Q.4\n",
    "* Sample 5000 die rolls such that the probabilities of obtaining the values 1 through 6 are distributed according probabilities above. Use these samples to estimate the mean of the random variable. \n"
   ]
  },
  {
   "cell_type": "code",
   "execution_count": 21,
   "id": "5bc38d79",
   "metadata": {},
   "outputs": [],
   "source": [
    "roll_random_var_list = []\n",
    "for i in range(5000):\n",
    "    roll_random_var = np.random.choice([1, 2, 3, 4, 5, 6], \n",
    "                                       p=[0.3/6, 0.7/6, 2/6, 0.5/6, 0.2/6, 2.3/6])\n",
    "    roll_random_var_list.append(roll_random_var)\n",
    "\n",
    "counts = Counter(roll_random_var_list)"
   ]
  },
  {
   "cell_type": "code",
   "execution_count": 22,
   "id": "cd61b6c4",
   "metadata": {},
   "outputs": [
    {
     "name": "stdout",
     "output_type": "stream",
     "text": [
      "{1: 250, 2: 637, 3: 1609, 4: 409, 5: 165, 6: 1930}\n"
     ]
    },
    {
     "data": {
      "text/plain": [
       "Text(0, 0.5, 'Number of times face obtained')"
      ]
     },
     "execution_count": 22,
     "metadata": {},
     "output_type": "execute_result"
    },
    {
     "data": {
      "image/png": "[encoded data removed]",
      "text/plain": [
       "<Figure size 864x288 with 1 Axes>"
      ]
     },
     "metadata": {
      "needs_background": "light"
     },
     "output_type": "display_data"
    }
   ],
   "source": [
    "sorted_counts = dict(sorted(counts.items()))\n",
    "print(sorted_counts)\n",
    "plt.figure(figsize=(12,4))\n",
    "_ = plt.bar(sorted_counts.keys(), sorted_counts.values())\n",
    "plt.xlabel('Die face obtained')\n",
    "plt.ylabel('Number of times face obtained')"
   ]
  },
  {
   "cell_type": "markdown",
   "id": "78152616",
   "metadata": {},
   "source": [
    "##### Q.5 \n",
    "\n",
    "* Does the mean match your prediction in Q.3 above? Explain your answer.\n"
   ]
  },
  {
   "cell_type": "markdown",
   "id": "0ac57552",
   "metadata": {},
   "source": [
    "Yes the mean does match my prediction above.  Since the probability of rolling a 6 was 2.3/6 and higher than rolling any other face, I predicted that 6 would be the most common face rolled which was evident in the data presented with 6 being the most rolled face with 3 coming in at a close second compared to the other faces 1, 2, 4, and 5."
   ]
  }
 ],
 "metadata": {
  "kernelspec": {
   "display_name": "Python 3 (ipykernel)",
   "language": "python",
   "name": "python3"
  },
  "language_info": {
   "codemirror_mode": {
    "name": "ipython",
    "version": 3
   },
   "file_extension": ".py",
   "mimetype": "text/x-python",
   "name": "python",
   "nbconvert_exporter": "python",
   "pygments_lexer": "ipython3",
   "version": "3.9.7"
  }
 },
 "nbformat": 4,
 "nbformat_minor": 5
}
