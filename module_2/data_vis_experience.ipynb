{
 "cells": [
  {
   "cell_type": "markdown",
   "id": "8b1a4ff6",
   "metadata": {},
   "source": [
    "#### 1. Reproducing a plot\n",
    "1. Use `numpy`'s `random` module to generate a random list of size 1000 of the following three categories: \"CS\", \"Engineering\", \"Math\" and \"Physics\"\n",
    "  1.1 Use a seed of 42\n",
    "2. Store the data in an array called my `students_affiliations`\n",
    "3. use `matplotlib` to plot the data in `students_affiliations` to reproduce the following graph\n",
    " 3.1 The plot uses \"#FF5733\" as color with an alpha (transparency) of 0.55.\n",
    "\n",
    "* Your graph should look exactly like the one below\n",
    "\n",
    "![](https://www.dropbox.com/s/ffmu62es6d7evh5/experience_fig.png?dl=1)"
   ]
  },
  {
   "cell_type": "markdown",
   "id": "18d40abf",
   "metadata": {},
   "source": [
    "Basic imports for numpy, where the random module resides, matplotlib.pyplot to produce the plot diagrams, and pandas to group the random choices from the array into a series "
   ]
  },
  {
   "cell_type": "code",
   "execution_count": 120,
   "id": "583815e1",
   "metadata": {},
   "outputs": [],
   "source": [
    "import numpy as np\n",
    "import matplotlib.pyplot as plt\n",
    "import pandas as pd"
   ]
  },
  {
   "cell_type": "markdown",
   "id": "352adbb1",
   "metadata": {},
   "source": [
    "Used seed 42 as requested, and created an array random list which selects an element of the provided array of, this is repeated 1000 times\n",
    "A series is then used to count the amount of times each category is selected using value_counts()"
   ]
  },
  {
   "cell_type": "code",
   "execution_count": 121,
   "id": "2d947161",
   "metadata": {},
   "outputs": [
    {
     "data": {
      "text/plain": [
       "Physics        280\n",
       "CS             258\n",
       "Math           232\n",
       "Engineering    230\n",
       "dtype: int64"
      ]
     },
     "execution_count": 121,
     "metadata": {},
     "output_type": "execute_result"
    }
   ],
   "source": [
    "np.random.seed(42)\n",
    "random_list = np.random.choice([\"CS\", \"Engineering\", \"Math\", \"Physics\"], 1000)\n",
    "students_affiliations = pd.Series(random_list).value_counts()\n",
    "students_affiliations"
   ]
  },
  {
   "cell_type": "markdown",
   "id": "0cafd0dd",
   "metadata": {},
   "source": [
    "A bar graph is created with the x axis displaying the index of the students_affiliations series created in the cell above\n",
    "Each index corresponds to the categories, Physics, CS, Math, or Engineering\n",
    "The y axis displays the returned values of the corresponding category\n",
    "Color of each bar is set to the provided hex value along with the alpha(transparency) of .55"
   ]
  },
  {
   "cell_type": "code",
   "execution_count": 122,
   "id": "42bdb048",
   "metadata": {},
   "outputs": [
    {
     "data": {
      "text/plain": [
       "Text(0, 0.5, 'Counts')"
      ]
     },
     "execution_count": 122,
     "metadata": {},
     "output_type": "execute_result"
    },
    {
     "data": {
      "image/png": "[encoded data removed]",
      "text/plain": [
       "<Figure size 432x288 with 1 Axes>"
      ]
     },
     "metadata": {
      "needs_background": "light"
     },
     "output_type": "display_data"
    }
   ],
   "source": [
    "plt.bar(students_affiliations.index, students_affiliations.values, color = '#FF5733', alpha = 0.55)\n",
    "plt.title(\"Distribution of Students in the Program\", color = '#2e9429')\n",
    "plt.xlabel(\"Disciplines\")\n",
    "plt.ylabel(\"Counts\")"
   ]
  },
  {
   "cell_type": "markdown",
   "id": "bf3607f3",
   "metadata": {},
   "source": [
    "#### 2. Generating a scatter plot\n",
    "* Generate random data to produce a scatter plot\n",
    "  * You can use any function to generate the data\n",
    "  * Instead of using circles as symbols, you should use squares.\n",
    "    "
   ]
  },
  {
   "cell_type": "markdown",
   "id": "f01c40bf",
   "metadata": {},
   "source": [
    "Here I created 50 random values, both for random_data_x and random_data_y using the random.randint function of numpy\n",
    "Each corresponding index of both arrays held a value which would be a data point on the graph\n",
    "Inputting the random data points for each x and y value into the scatter plot with marker 's' outputs a scatter plot with each symbol being a square"
   ]
  },
  {
   "cell_type": "code",
   "execution_count": 123,
   "id": "9f7530eb",
   "metadata": {},
   "outputs": [
    {
     "data": {
      "text/plain": [
       "Text(0, 0.5, 'Random Y value')"
      ]
     },
     "execution_count": 123,
     "metadata": {},
     "output_type": "execute_result"
    },
    {
     "data": {
      "image/png": "[encoded data removed]",
      "text/plain": [
       "<Figure size 432x288 with 1 Axes>"
      ]
     },
     "metadata": {
      "needs_background": "light"
     },
     "output_type": "display_data"
    }
   ],
   "source": [
    "random_data_x = np.random.randint(100, size = 50)\n",
    "random_data_y = np.random.randint(100, size = 50)\n",
    "plt.scatter(random_data_x, random_data_y, marker = 's')\n",
    "plt.title(\"Random Data\")\n",
    "plt.xlabel(\"Random x Value\")\n",
    "plt.ylabel(\"Random Y value\")"
   ]
  }
 ],
 "metadata": {
  "kernelspec": {
   "display_name": "Python 3 (ipykernel)",
   "language": "python",
   "name": "python3"
  },
  "language_info": {
   "codemirror_mode": {
    "name": "ipython",
    "version": 3
   },
   "file_extension": ".py",
   "mimetype": "text/x-python",
   "name": "python",
   "nbconvert_exporter": "python",
   "pygments_lexer": "ipython3",
   "version": "3.9.7"
  }
 },
 "nbformat": 4,
 "nbformat_minor": 5
}
